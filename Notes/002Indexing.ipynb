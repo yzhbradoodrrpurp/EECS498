{
 "cells": [
  {
   "metadata": {},
   "cell_type": "markdown",
   "source": "# Indexing",
   "id": "a9583cd3c38099c9"
  },
  {
   "metadata": {
    "ExecuteTime": {
     "end_time": "2025-02-08T15:37:09.492400Z",
     "start_time": "2025-02-08T15:37:09.484324Z"
    }
   },
   "cell_type": "code",
   "source": "import torch",
   "id": "8a166cbad246c629",
   "outputs": [],
   "execution_count": 13
  },
  {
   "metadata": {},
   "cell_type": "markdown",
   "source": [
    "## Integer Tensor Indexing\n",
    "\n",
    "使用数组来索引tensor中的数据，得到tensor的子视图，**数组中的是需要索引的批、行、列等等**，其余维度上用 `:` 指代。"
   ],
   "id": "9ae8434c74d4e017"
  },
  {
   "cell_type": "code",
   "id": "initial_id",
   "metadata": {
    "collapsed": true,
    "ExecuteTime": {
     "end_time": "2025-02-08T15:37:09.533167Z",
     "start_time": "2025-02-08T15:37:09.495194Z"
    }
   },
   "source": [
    "a = torch.arange(0, 35).reshape(5, 7)\n",
    "print(a)\n",
    "\n",
    "# 得到第0, 3, 5, 6列组尘的tensor\n",
    "b = a[:, [0, 3, 5, 6]]\n",
    "print(b)\n",
    "\n",
    "# 得到1, 0, 1, 3行组成的tensor\n",
    "c = a[[1, 0, 1, 3], :]\n",
    "print(c)"
   ],
   "outputs": [
    {
     "name": "stdout",
     "output_type": "stream",
     "text": [
      "tensor([[ 0,  1,  2,  3,  4,  5,  6],\n",
      "        [ 7,  8,  9, 10, 11, 12, 13],\n",
      "        [14, 15, 16, 17, 18, 19, 20],\n",
      "        [21, 22, 23, 24, 25, 26, 27],\n",
      "        [28, 29, 30, 31, 32, 33, 34]])\n",
      "tensor([[ 0,  3,  5,  6],\n",
      "        [ 7, 10, 12, 13],\n",
      "        [14, 17, 19, 20],\n",
      "        [21, 24, 26, 27],\n",
      "        [28, 31, 33, 34]])\n",
      "tensor([[ 7,  8,  9, 10, 11, 12, 13],\n",
      "        [ 0,  1,  2,  3,  4,  5,  6],\n",
      "        [ 7,  8,  9, 10, 11, 12, 13],\n",
      "        [21, 22, 23, 24, 25, 26, 27]])\n"
     ]
    }
   ],
   "execution_count": 14
  },
  {
   "metadata": {},
   "cell_type": "markdown",
   "source": "另一种使用Integer Tensor Indexing的方式是每个维度都用相同长度的数组进行索引。",
   "id": "4b1c86b8f344a0ab"
  },
  {
   "metadata": {
    "ExecuteTime": {
     "end_time": "2025-02-08T15:37:09.537176Z",
     "start_time": "2025-02-08T15:37:09.534140Z"
    }
   },
   "cell_type": "code",
   "source": [
    "# 得到a[0, 1], a[2, 3], a[4, 6]上的元素组成的一维张量\n",
    "d = a[[0, 2, 4], [1, 3, 6]]\n",
    "print(d)"
   ],
   "id": "c76dcfa522a6059b",
   "outputs": [
    {
     "name": "stdout",
     "output_type": "stream",
     "text": [
      "tensor([ 1, 17, 34])\n"
     ]
    }
   ],
   "execution_count": 15
  },
  {
   "metadata": {},
   "cell_type": "markdown",
   "source": [
    "## Boolean Tensor Indexing\n",
    "\n",
    "通过与原tensor相同形状的bool类型tensor筛选出值为 `True` 的元素，并组成一维张量。 "
   ],
   "id": "524c79e085eb4089"
  },
  {
   "metadata": {
    "ExecuteTime": {
     "end_time": "2025-02-08T15:37:09.546872Z",
     "start_time": "2025-02-08T15:37:09.537890Z"
    }
   },
   "cell_type": "code",
   "source": [
    "e = a[a > 20]\n",
    "print(e)\n",
    "\n",
    "f = a[a % 7 == 0]\n",
    "print(f)"
   ],
   "id": "74658d1e1b314dea",
   "outputs": [
    {
     "name": "stdout",
     "output_type": "stream",
     "text": [
      "tensor([21, 22, 23, 24, 25, 26, 27, 28, 29, 30, 31, 32, 33, 34])\n",
      "tensor([ 0,  7, 14, 21, 28])\n"
     ]
    }
   ],
   "execution_count": 16
  }
 ],
 "metadata": {
  "kernelspec": {
   "display_name": "Python 3",
   "language": "python",
   "name": "python3"
  },
  "language_info": {
   "codemirror_mode": {
    "name": "ipython",
    "version": 2
   },
   "file_extension": ".py",
   "mimetype": "text/x-python",
   "name": "python",
   "nbconvert_exporter": "python",
   "pygments_lexer": "ipython2",
   "version": "2.7.6"
  }
 },
 "nbformat": 4,
 "nbformat_minor": 5
}
