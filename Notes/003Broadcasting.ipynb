{
 "cells": [
  {
   "metadata": {},
   "cell_type": "markdown",
   "source": [
    "# Broadcasting\n",
    "\n",
    "Broadcasting is a powerful mechanism that allows PyTorch to work with arrays of different shapes when performing arithmetic operations. Frequently we have a smaller tensor and a larger tensor, and we want to use the smaller tensor multiple times to perform some operation on the larger tensor."
   ],
   "id": "39775cf54a9c00b8"
  },
  {
   "cell_type": "code",
   "id": "initial_id",
   "metadata": {
    "collapsed": true,
    "ExecuteTime": {
     "end_time": "2025-02-08T16:02:12.222495Z",
     "start_time": "2025-02-08T16:02:12.219654Z"
    }
   },
   "source": "import torch",
   "outputs": [],
   "execution_count": 7
  },
  {
   "metadata": {},
   "cell_type": "markdown",
   "source": [
    "广播机制能够将一个 $1*n$ 的张量和 $m * n$ 的张量进行广播，将 $1*n$ 的张量广播为 $m * n$ 的张量，然后进行相应的操作。 \n",
    "\n",
    "广播机制能够将一个 $m*1$ 的张量和 $m * n$ 的张量进行广播，将 $m * 1$ 的张量广播为 $m * n$ 的张量， 然后进行相应的操作。"
   ],
   "id": "7ba09468ea440603"
  },
  {
   "metadata": {
    "ExecuteTime": {
     "end_time": "2025-02-08T16:05:10.427001Z",
     "start_time": "2025-02-08T16:05:10.405700Z"
    }
   },
   "cell_type": "code",
   "source": [
    "x = torch.arange(15).reshape(5, 3)\n",
    "print(x)\n",
    "\n",
    "y = torch.tensor([1, 0, 1])\n",
    "print(y)\n",
    "\n",
    "a = x + y\n",
    "print(a)\n",
    "\n",
    "z = torch.tensor([1, 1, 1, 1, 1]).reshape(5, -1)\n",
    "print(z)\n",
    "\n",
    "b = x * z\n",
    "print(b)"
   ],
   "id": "e8e4d217a767be44",
   "outputs": [
    {
     "name": "stdout",
     "output_type": "stream",
     "text": [
      "tensor([[ 0,  1,  2],\n",
      "        [ 3,  4,  5],\n",
      "        [ 6,  7,  8],\n",
      "        [ 9, 10, 11],\n",
      "        [12, 13, 14]])\n",
      "tensor([1, 0, 1])\n",
      "tensor([[ 1,  1,  3],\n",
      "        [ 4,  4,  6],\n",
      "        [ 7,  7,  9],\n",
      "        [10, 10, 12],\n",
      "        [13, 13, 15]])\n",
      "tensor([[1],\n",
      "        [1],\n",
      "        [1],\n",
      "        [1],\n",
      "        [1]])\n",
      "tensor([[ 0,  1,  2],\n",
      "        [ 3,  4,  5],\n",
      "        [ 6,  7,  8],\n",
      "        [ 9, 10, 11],\n",
      "        [12, 13, 14]])\n"
     ]
    }
   ],
   "execution_count": 11
  },
  {
   "metadata": {},
   "cell_type": "markdown",
   "source": "对于 $1 * n$ 和 $m * 1$ 的张量，也能进行广播，$1 * n \\rightarrow m * n, m * 1 \\rightarrow m * n$，然后进行相应的操作。",
   "id": "1c6b4b84186df57"
  },
  {
   "metadata": {
    "ExecuteTime": {
     "end_time": "2025-02-08T16:02:17.925191Z",
     "start_time": "2025-02-08T16:02:17.918460Z"
    }
   },
   "cell_type": "code",
   "source": [
    "x = torch.arange(5).reshape(1, -1)\n",
    "y = torch.arange(6).reshape(-1, 1)\n",
    "z = x + y\n",
    "print(z)"
   ],
   "id": "43a289b2e4691194",
   "outputs": [
    {
     "name": "stdout",
     "output_type": "stream",
     "text": [
      "tensor([[0, 1, 2, 3, 4],\n",
      "        [1, 2, 3, 4, 5],\n",
      "        [2, 3, 4, 5, 6],\n",
      "        [3, 4, 5, 6, 7],\n",
      "        [4, 5, 6, 7, 8],\n",
      "        [5, 6, 7, 8, 9]])\n"
     ]
    }
   ],
   "execution_count": 10
  },
  {
   "metadata": {},
   "cell_type": "markdown",
   "source": "如果两个张量的维度不同，广播机制会将低维度的张量广播为高维度张量: $(m,) \\rightarrow (1, m) \\rightarrow (..., m), (m, n) \\rightarrow (1, m, n) \\rightarrow (..., m, n)$ 。",
   "id": "ca83aa2fca452e28"
  },
  {
   "metadata": {
    "ExecuteTime": {
     "end_time": "2025-02-08T16:13:36.838216Z",
     "start_time": "2025-02-08T16:13:36.826656Z"
    }
   },
   "cell_type": "code",
   "source": [
    "# x的形状(2, 3)\n",
    "x = torch.linspace(1, 6, 6, dtype=torch.int32).reshape(2, 3)\n",
    "print(x)\n",
    "\n",
    "# y的形状(4, 1, 1)\n",
    "y = torch.tensor([1, 10, 1000, 10000]).reshape(-1, 1, 1)\n",
    "print(y)\n",
    "\n",
    "# x被广播为: (2, 3) -> (1, 2, 3) -> (4, 2, 3)\n",
    "# y被广播为: (4, 1, 1) -> (4, 2, 3)\n",
    "z = y * x\n",
    "print(z)"
   ],
   "id": "10a18770fafb5391",
   "outputs": [
    {
     "name": "stdout",
     "output_type": "stream",
     "text": [
      "tensor([[1, 2, 3],\n",
      "        [4, 5, 6]], dtype=torch.int32)\n",
      "tensor([[[    1]],\n",
      "\n",
      "        [[   10]],\n",
      "\n",
      "        [[ 1000]],\n",
      "\n",
      "        [[10000]]])\n",
      "tensor([[[    1,     2,     3],\n",
      "         [    4,     5,     6]],\n",
      "\n",
      "        [[   10,    20,    30],\n",
      "         [   40,    50,    60]],\n",
      "\n",
      "        [[ 1000,  2000,  3000],\n",
      "         [ 4000,  5000,  6000]],\n",
      "\n",
      "        [[10000, 20000, 30000],\n",
      "         [40000, 50000, 60000]]])\n"
     ]
    }
   ],
   "execution_count": 17
  },
  {
   "metadata": {},
   "cell_type": "code",
   "outputs": [],
   "execution_count": null,
   "source": "",
   "id": "3dd3ef827a5c61c7"
  }
 ],
 "metadata": {
  "kernelspec": {
   "display_name": "Python 3",
   "language": "python",
   "name": "python3"
  },
  "language_info": {
   "codemirror_mode": {
    "name": "ipython",
    "version": 2
   },
   "file_extension": ".py",
   "mimetype": "text/x-python",
   "name": "python",
   "nbconvert_exporter": "python",
   "pygments_lexer": "ipython2",
   "version": "2.7.6"
  }
 },
 "nbformat": 4,
 "nbformat_minor": 5
}
