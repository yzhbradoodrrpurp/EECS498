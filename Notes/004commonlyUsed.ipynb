{
 "cells": [
  {
   "metadata": {},
   "cell_type": "markdown",
   "source": "# 常用函数",
   "id": "a5099d3e10c933bf"
  },
  {
   "cell_type": "code",
   "id": "initial_id",
   "metadata": {
    "collapsed": true,
    "ExecuteTime": {
     "end_time": "2025-02-09T07:01:18.940253Z",
     "start_time": "2025-02-09T07:01:17.968832Z"
    }
   },
   "source": "import torch",
   "outputs": [],
   "execution_count": 1
  },
  {
   "metadata": {},
   "cell_type": "markdown",
   "source": [
    "## torch.cat\n",
    "\n",
    "将几个不同的tensor拼接在一起，可以指定按照哪个维度对齐进行拼接，**其余维度大小必须相同**。"
   ],
   "id": "bd2d347b76d8b77b"
  },
  {
   "metadata": {
    "ExecuteTime": {
     "end_time": "2025-02-09T07:05:46.042508Z",
     "start_time": "2025-02-09T07:05:45.997211Z"
    }
   },
   "cell_type": "code",
   "source": [
    "x = torch.arange(15).reshape(3, 5)\n",
    "print(x)\n",
    "y = torch.arange(12).reshape(3, 4)\n",
    "print(y)\n",
    "\n",
    "# 按照列对齐进行拼接 \n",
    "z = torch.cat([x, y], dim=1)\n",
    "print(z)"
   ],
   "id": "d86554375064007",
   "outputs": [
    {
     "name": "stdout",
     "output_type": "stream",
     "text": [
      "tensor([[ 0,  1,  2,  3,  4],\n",
      "        [ 5,  6,  7,  8,  9],\n",
      "        [10, 11, 12, 13, 14]])\n",
      "tensor([[ 0,  1,  2,  3],\n",
      "        [ 4,  5,  6,  7],\n",
      "        [ 8,  9, 10, 11]])\n",
      "tensor([[ 0,  1,  2,  3,  4,  0,  1,  2,  3],\n",
      "        [ 5,  6,  7,  8,  9,  4,  5,  6,  7],\n",
      "        [10, 11, 12, 13, 14,  8,  9, 10, 11]])\n"
     ]
    }
   ],
   "execution_count": 2
  },
  {
   "metadata": {},
   "cell_type": "markdown",
   "source": "三维tensor的拼接。",
   "id": "4647784f395c3d0d"
  },
  {
   "metadata": {
    "ExecuteTime": {
     "end_time": "2025-02-09T07:08:14.332900Z",
     "start_time": "2025-02-09T07:08:14.315738Z"
    }
   },
   "cell_type": "code",
   "source": [
    "x = torch.arange(18).reshape(2, 3, 3)\n",
    "print(x)\n",
    "y = torch.arange(9).reshape(1, 3, 3)\n",
    "print(y)\n",
    "\n",
    "# 按照批对齐进行拼接\n",
    "z = torch.cat([x, y], dim=0)\n",
    "print(z)"
   ],
   "id": "1e8f7a0b3a6cc304",
   "outputs": [
    {
     "name": "stdout",
     "output_type": "stream",
     "text": [
      "tensor([[[ 0,  1,  2],\n",
      "         [ 3,  4,  5],\n",
      "         [ 6,  7,  8]],\n",
      "\n",
      "        [[ 9, 10, 11],\n",
      "         [12, 13, 14],\n",
      "         [15, 16, 17]]])\n",
      "tensor([[[0, 1, 2],\n",
      "         [3, 4, 5],\n",
      "         [6, 7, 8]]])\n",
      "tensor([[[ 0,  1,  2],\n",
      "         [ 3,  4,  5],\n",
      "         [ 6,  7,  8]],\n",
      "\n",
      "        [[ 9, 10, 11],\n",
      "         [12, 13, 14],\n",
      "         [15, 16, 17]],\n",
      "\n",
      "        [[ 0,  1,  2],\n",
      "         [ 3,  4,  5],\n",
      "         [ 6,  7,  8]]])\n"
     ]
    }
   ],
   "execution_count": 3
  },
  {
   "metadata": {},
   "cell_type": "markdown",
   "source": [
    "## torch.topk\n",
    "\n",
    "用于选出张量中最大\\小的k个元素，返回值和索引：`torch.topk(input, k, dim=None, largest=True, sorted=True)`\n",
    "\n",
    "- `input`: 张量\n",
    "- `k`: 多少个元素\n",
    "- `dim`: 选取维度\n",
    "- `largest`: 为 `True` 时，选取最大的k个；为 `False` 时，选取最小的k个\n",
    "- `sorted`: 是否需要排序 "
   ],
   "id": "aca3043e0fe1e60e"
  },
  {
   "metadata": {
    "ExecuteTime": {
     "end_time": "2025-02-09T07:21:38.092275Z",
     "start_time": "2025-02-09T07:21:38.078482Z"
    }
   },
   "cell_type": "code",
   "source": [
    "x = torch.rand(1, 10)\n",
    "print(x)\n",
    "\n",
    "# 得到最大2个数的值和索引\n",
    "values, indices = x.topk(2, largest=True)\n",
    "print(values)\n",
    "print(indices)"
   ],
   "id": "ece337e3c7c97200",
   "outputs": [
    {
     "name": "stdout",
     "output_type": "stream",
     "text": [
      "tensor([[0.9723, 0.1026, 0.8597, 0.3308, 0.3132, 0.7276, 0.2354, 0.2993, 0.7812,\n",
      "         0.3810]])\n",
      "tensor([[0.9723, 0.8597]])\n",
      "tensor([[0, 2]])\n"
     ]
    }
   ],
   "execution_count": 9
  },
  {
   "metadata": {},
   "cell_type": "markdown",
   "source": [
    "## torch.mode\n",
    "\n",
    "mode的意思就是众数，用于**整数类型张量**，返回出现次数最多的元素和次数，可以指定维度，在相应维度上查看众数。"
   ],
   "id": "60d8c21f5bfc63cb"
  },
  {
   "metadata": {
    "ExecuteTime": {
     "end_time": "2025-02-09T07:29:36.830210Z",
     "start_time": "2025-02-09T07:29:36.815961Z"
    }
   },
   "cell_type": "code",
   "source": [
    "x = torch.tensor([1, 2, 4, 3, 1, 6, 5, 7, 3, 7, 5, 9])\n",
    "print(x)\n",
    "\n",
    "# 得到众数和出现次数\n",
    "mode, times = x.mode()\n",
    "print(mode)\n",
    "print(times)\n",
    "\n",
    "y = x.view(3, 4)\n",
    "print(y)\n",
    "\n",
    "mode, times = y.mode(dim=0)\n",
    "print(mode)\n",
    "print(times)"
   ],
   "id": "b394f8173b1ac7f9",
   "outputs": [
    {
     "name": "stdout",
     "output_type": "stream",
     "text": [
      "tensor([1, 2, 4, 3, 1, 6, 5, 7, 3, 7, 5, 9])\n",
      "tensor(1)\n",
      "tensor(4)\n",
      "tensor([[1, 2, 4, 3],\n",
      "        [1, 6, 5, 7],\n",
      "        [3, 7, 5, 9]])\n",
      "tensor([1, 2, 5, 3])\n",
      "tensor([1, 0, 2, 0])\n"
     ]
    }
   ],
   "execution_count": 13
  },
  {
   "metadata": {},
   "cell_type": "code",
   "outputs": [],
   "execution_count": null,
   "source": "",
   "id": "fe1fb723b6e70850"
  }
 ],
 "metadata": {
  "kernelspec": {
   "display_name": "Python 3",
   "language": "python",
   "name": "python3"
  },
  "language_info": {
   "codemirror_mode": {
    "name": "ipython",
    "version": 2
   },
   "file_extension": ".py",
   "mimetype": "text/x-python",
   "name": "python",
   "nbconvert_exporter": "python",
   "pygments_lexer": "ipython2",
   "version": "2.7.6"
  }
 },
 "nbformat": 4,
 "nbformat_minor": 5
}
