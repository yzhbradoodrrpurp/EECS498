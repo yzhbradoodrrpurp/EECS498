{
 "cells": [
  {
   "metadata": {},
   "cell_type": "markdown",
   "source": "# Data",
   "id": "a71d16fc03b3fa90"
  },
  {
   "cell_type": "code",
   "id": "initial_id",
   "metadata": {
    "collapsed": true,
    "ExecuteTime": {
     "end_time": "2025-03-26T11:58:12.532860Z",
     "start_time": "2025-03-26T11:58:12.526381Z"
    }
   },
   "source": [
    "import torch\n",
    "from torch.utils.data import Dataset, DataLoader"
   ],
   "outputs": [],
   "execution_count": 4
  },
  {
   "metadata": {},
   "cell_type": "markdown",
   "source": [
    "## Dataset\n",
    "\n",
    "可以使用 `torch.utils.data.Dataset` 创建一个 Dataset 类，只用完成三个方法：\n",
    "\n",
    "- `__init__`: 传入数据特征与标签\n",
    "- `__len__`: 返回数据集的大小\n",
    "- `__getitem__`: 给定一个索引，定义怎么得到数据集中的样本"
   ],
   "id": "fa5ab216a197485c"
  },
  {
   "metadata": {
    "ExecuteTime": {
     "end_time": "2025-03-26T11:58:12.540513Z",
     "start_time": "2025-03-26T11:58:12.535635Z"
    }
   },
   "cell_type": "code",
   "source": [
    "class myDataset(Dataset):\n",
    "    \n",
    "    def __init__(self, features, labels):\n",
    "        self.features = features\n",
    "        self.labels = labels\n",
    "        \n",
    "    def __len__(self):\n",
    "        return len(self.labels)\n",
    "    \n",
    "    def __getitem__(self, idx):\n",
    "        return self.features[idx], self.labels[idx]"
   ],
   "id": "1aedaaa8b4770e0b",
   "outputs": [],
   "execution_count": 5
  },
  {
   "metadata": {},
   "cell_type": "markdown",
   "source": [
    "## DataLoader\n",
    "\n",
    "DataLoader 用于批量加载数据，提供数据的批次、打乱、并行等功能。\n",
    "  \n",
    "创建一个 `DataLoader` 需要以下参数：\n",
    "\n",
    "- `dataset`: Dataset 对象\n",
    "- `batch_size`: 一个批量的大小\n",
    "- `shuffle`: 是否对数据进行打乱\n",
    "- `drop_last`: 是否丢弃不成一个 batch 的数据\n",
    "- `num_workers`: 进程数\n",
    "\n",
    "DataLoader 返回数据集中一个 batch_size 的特征和标签。"
   ],
   "id": "50680af2ca78fe95"
  },
  {
   "metadata": {
    "ExecuteTime": {
     "end_time": "2025-03-26T11:58:12.562576Z",
     "start_time": "2025-03-26T11:58:12.541241Z"
    }
   },
   "cell_type": "code",
   "source": [
    "X = torch.randn(100, 3, 32, 32)\n",
    "y = torch.randint(0, 10, (100,))\n",
    "\n",
    "dataset = myDataset(X, y)\n",
    "dataloader = DataLoader(dataset, batch_size=32, shuffle=True, drop_last=True)\n",
    "\n",
    "for X_batch, y_batch in dataloader:\n",
    "    print(X_batch.shape)\n",
    "    print(y_batch.shape)"
   ],
   "id": "d64d8cb10d116085",
   "outputs": [
    {
     "name": "stdout",
     "output_type": "stream",
     "text": [
      "torch.Size([32, 3, 32, 32])\n",
      "torch.Size([32])\n",
      "torch.Size([32, 3, 32, 32])\n",
      "torch.Size([32])\n",
      "torch.Size([32, 3, 32, 32])\n",
      "torch.Size([32])\n"
     ]
    }
   ],
   "execution_count": 6
  }
 ],
 "metadata": {
  "kernelspec": {
   "display_name": "Python 3",
   "language": "python",
   "name": "python3"
  },
  "language_info": {
   "codemirror_mode": {
    "name": "ipython",
    "version": 2
   },
   "file_extension": ".py",
   "mimetype": "text/x-python",
   "name": "python",
   "nbconvert_exporter": "python",
   "pygments_lexer": "ipython2",
   "version": "2.7.6"
  }
 },
 "nbformat": 4,
 "nbformat_minor": 5
}
