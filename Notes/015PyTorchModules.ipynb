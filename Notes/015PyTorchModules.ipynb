{
 "cells": [
  {
   "metadata": {},
   "cell_type": "markdown",
   "source": "# PyTorch Modules",
   "id": "ddabf163e9a1d4ad"
  },
  {
   "cell_type": "code",
   "id": "initial_id",
   "metadata": {
    "collapsed": true,
    "ExecuteTime": {
     "end_time": "2025-03-10T04:08:20.984982Z",
     "start_time": "2025-03-10T04:08:19.774914Z"
    }
   },
   "source": [
    "import  torch\n",
    "import matplotlib.pyplot as plt\n",
    "from torch import nn"
   ],
   "outputs": [],
   "execution_count": 3
  },
  {
   "metadata": {},
   "cell_type": "markdown",
   "source": [
    "## torch.nn.functional\n",
    "\n",
    "在 `torch.nn.functional` 这个库里有许多函数可以让我们直接调用，避免重复造轮子：\n",
    "\n",
    "- `torch.nn.functional.linear`\n",
    "    - receives:    \n",
    "        - X: (batch_size, in_dimensions)\n",
    "        - W: (out_dimensions, in_dimensions)\n",
    "        - b: (out_dimensions,) default None\n",
    "    - returns:\n",
    "        - output: (batch_size, out_dimensions) \n",
    "\n",
    "- `torch.nn.functional.relu`\n",
    "    - receives:\n",
    "        - X\n",
    "    - returns:\n",
    "        - X_after_relu\n",
    "\n",
    "- `torch.nn.functional.conv2d`\n",
    "    - receives:\n",
    "        - X: (batch_size, in_channels, H, W)\n",
    "        - W: (out_channels, in_channels, kH, kW)\n",
    "        - b: (out_channels,) default None\n",
    "        - stride: default 1   \n",
    "        - padding: default 0 \n",
    "    - returns:   \n",
    "        output: (batch_size, out_channels, (H - kH + 2P) // S + 1, (W - kW + 2P) // S + 1)\n",
    "\n",
    "- `torch.nn.functional.pad`\n",
    "    - receives:\n",
    "        - X: \n",
    "        - (left, right, up, down): padding numbers\n",
    "    - returns:\n",
    "        - X_padded\n",
    "\n",
    "- `torch.nn.functional.cross_entropy`\n",
    "    - receives:\n",
    "        - scores: (batch_size, dimensions)\n",
    "        - y: (batch_size,)\n",
    "    - returns:\n",
    "        - loss: scalar   \n",
    "                \n",
    "## torch.nn.init\n",
    "\n",
    "在 `torch.nn.init` 这个库里有许多用于初始化的函数：\n",
    "\n",
    "- `torch.nn.init.kaiming_normal_`\n",
    "    - receives:\n",
    "        - `torch.empty`: corresponding shape of W\n",
    "        - nonelinearity: 'relu', 'leaky_relu', ...\n",
    "    - returns:\n",
    "        - W: kaming_nromal_ W\n",
    "                \n",
    "- `torch.nn.init.zero_`\n",
    "    - receives:\n",
    "        - `torch.empty`: corresponding shape of b\n",
    "    - returns: \n",
    "        - b: all neurons set to zero."
   ],
   "id": "3929697affa194be"
  },
  {
   "metadata": {
    "ExecuteTime": {
     "end_time": "2025-03-10T04:52:56.817336Z",
     "start_time": "2025-03-10T04:52:56.169723Z"
    }
   },
   "cell_type": "code",
   "source": [
    "\"\"\"\n",
    "# Conv -> ReLU -> Conv -> ReLU -> Flatten -> Linear -> ReLU -> Linear -> Softmax\n",
    "\n",
    "Conv1: 8 filters, kernel size of 3x3, stride of 1, padding of 1\n",
    "ReLU: ...\n",
    "Conv2: 16 filters, kernel size of 3x3, stride of 1, padding of 1\n",
    "ReLU: ...\n",
    "Flatten: ...\n",
    "Linear1: out dimension of 1000, in dimension of 16 * 32 * 32\n",
    "Linear2: out dimension of 10, in dimension of 1000\n",
    "Softmax: ...\n",
    "\"\"\"\n",
    "\n",
    "# generate training samples\n",
    "X = torch.randint(0, 256, (64, 3, 32, 32), dtype=torch.float, generator=torch.Generator().manual_seed(42))\n",
    "y = torch.randint(0, 10, (64,), generator=torch.Generator().manual_seed(42))\n",
    "\n",
    "# initialize parameters\n",
    "convW1 = torch.nn.init.kaiming_normal_(torch.empty(8, 3, 3, 3, requires_grad=True, dtype=torch.float))\n",
    "convb1 = torch.nn.init.zeros_(torch.empty(8, requires_grad=True, dtype=torch.float))\n",
    "convW2 = torch.nn.init.kaiming_normal_(torch.empty(16, 8, 3, 3, requires_grad=True, dtype=torch.float))\n",
    "convb2 = torch.nn.init.zeros_(torch.empty(16, requires_grad=True, dtype=torch.float))\n",
    "linarW1 = torch.nn.init.kaiming_normal_(torch.empty(1000, 16 * 32 * 32, requires_grad=True, dtype=torch.float))\n",
    "linarb1 = torch.nn.init.zeros_(torch.empty(1000, requires_grad=True, dtype=torch.float))\n",
    "linarW2 = torch.nn.init.kaiming_normal_(torch.empty(10, 1000, requires_grad=True, dtype=torch.float))\n",
    "linarb2 = torch.nn.init.zeros_(torch.empty(10, requires_grad=True, dtype=torch.float))\n",
    "\n",
    "loss_history = []\n",
    "epochs = range(5)\n",
    "\n",
    "for epoch in epochs:\n",
    "    hidden_layer = torch.nn.functional.conv2d(X, convW1, convb1, stride=1, padding=1)\n",
    "    hidden_layer = torch.nn.functional.relu(hidden_layer)\n",
    "    \n",
    "    hidden_layer = torch.nn.functional.conv2d(hidden_layer, convW2, convb2, stride=1, padding=1)\n",
    "    hidden_layer = torch.nn.functional.relu(hidden_layer)\n",
    "    hidden_layer = hidden_layer.view(hidden_layer.shape[0], -1)\n",
    "    \n",
    "    hidden_layer = torch.nn.functional.linear(hidden_layer, linarW1, linarb1)\n",
    "    hidden_layer = torch.nn.functional.relu(hidden_layer)\n",
    "    scores = torch.nn.functional.linear(hidden_layer, linarW2, linarb2)\n",
    "    \n",
    "    loss = torch.nn.functional.cross_entropy(scores, y)\n",
    "    loss_history.append(loss.item())\n",
    "    \n",
    "    loss.backward()\n",
    "    \n",
    "    with torch.no_grad():\n",
    "        convW1 -= 1e-5 * convW1.grad\n",
    "        convb1 -= 1e-5 * convb1.grad\n",
    "        convW2 -= 1e-5 * convW2.grad\n",
    "        convb2 -= 1e-5 * convb2.grad\n",
    "        linarW1 -= 1e-5 * linarW1.grad\n",
    "        linarb1 -= 1e-5 * linarb1.grad\n",
    "        linarW2 -= 1e-5 * linarW2.grad\n",
    "        linarb2 -= 1e-5 * linarb2.grad\n",
    "        \n",
    "        convW1.grad.zero_()\n",
    "        convb1.grad.zero_()\n",
    "        convW2.grad.zero_()\n",
    "        convb2.grad.zero_()\n",
    "        linarW1.grad.zero_()\n",
    "        linarb1.grad.zero_()\n",
    "        linarW2.grad.zero_()\n",
    "        linarb2.grad.zero_()\n",
    "\n",
    "plt.figure()        \n",
    "plt.plot(epochs, loss_history, color='red', label='Loss')\n",
    "plt.legend()\n",
    "plt.title('Loss history')\n",
    "plt.xlabel('Epochs')\n",
    "plt.ylabel('Loss')\n",
    "plt.show()"
   ],
   "id": "e47fde9384db6fc1",
   "outputs": [
    {
     "data": {
      "text/plain": [
       "<Figure size 640x480 with 1 Axes>"
      ],
      "image/png": "[encoded data removed]"
     },
     "metadata": {},
     "output_type": "display_data"
    }
   ],
   "execution_count": 24
  },
  {
   "metadata": {},
   "cell_type": "markdown",
   "source": [
    "## torch.nn.Module\n",
    "\n",
    "在以上的方法，我们需要自己手动创建一个个参数，这很麻烦，我们可以直接使用 `torch.nn.Module` 的子类来创建一个自己的网络同时避免手动创建大量参数。使用 `torch.nn.Module` 其实只用实现两个方法就行了：\n",
    "\n",
    "- `__init__`: 在这里创建好模型需要的层，比如 `torch.nn.Conv2d`, `torch.nn.Linear` 等等，它们本身也是 `torch.nn.Modlue` 的子类。然后将层的可学习参数进行初始化 (如果该层有可学习参数的话) 。\n",
    "- `forward`: 在这里使用在 `__init__` 中定义的层，决定如何向前传播. **千万不要在 `forward` 中创建新的有可学习参数的层，否则会出错，所有有可学习参数的层都必须创建在 `__init__` 中；但是可以在 `forward` 中创建新的没有可学习参数的层**。"
   ],
   "id": "a9df7172da5905a"
  },
  {
   "metadata": {
    "ExecuteTime": {
     "end_time": "2025-03-10T04:36:33.114836Z",
     "start_time": "2025-03-10T04:36:33.100475Z"
    }
   },
   "cell_type": "code",
   "source": [
    "class ZhihangNet(torch.nn.Module):\n",
    "    def __init__(self):\n",
    "        super().__init__()\n",
    "        # NOTE: 创建需要的层\n",
    "        self.conv1 = torch.nn.Conv2d(3, 8, kernel_size=(3, 3), padding=(1, 1), stride=1)\n",
    "        self.relu1 = torch.nn.ReLU()\n",
    "        self.conv2 = torch.nn.Conv2d(8, 16, kernel_size=(3, 3), padding=(1, 1), stride=1)\n",
    "        self.relu2 = torch.nn.ReLU()\n",
    "        self.flatten = torch.nn.Flatten()\n",
    "        self.linear1 = torch.nn.Linear(16 * 32 * 32, 1000) \n",
    "        self.relu3 = torch.nn.ReLU()\n",
    "        self.linear2 = torch.nn.Linear(1000, 10)\n",
    "        \n",
    "        # NOTE: 直接将层的可学习参数传入初始化函数中\n",
    "        nn.init.kaiming_normal_(self.conv1.weight)\n",
    "        nn.init.zeros_(self.conv1.bias)\n",
    "        nn.init.kaiming_normal_(self.conv2.weight)\n",
    "        nn.init.zeros_(self.conv2.bias)\n",
    "        nn.init.kaiming_normal_(self.linear1.weight)\n",
    "        nn.init.zeros_(self.linear1.bias)\n",
    "        nn.init.kaiming_normal_(self.linear2.weight)\n",
    "        nn.init.zeros_(self.linear2.bias)\n",
    "    \n",
    "    def forward(self, X):\n",
    "        # NOTE: 在正向传播的时候将所有的模型串联起来\n",
    "        hidden_layer = self.conv1(X)\n",
    "        hidden_layer = self.relu1(hidden_layer)\n",
    "        hidden_layer = self.conv2(hidden_layer)\n",
    "        hidden_layer = self.relu2(hidden_layer)\n",
    "        hidden_layer = self.flatten(hidden_layer)\n",
    "        hidden_layer = self.linear1(hidden_layer)\n",
    "        hidden_layer = self.relu3(hidden_layer)\n",
    "        scores = self.linear2(hidden_layer)\n",
    "        return scores"
   ],
   "id": "eccf7e205490ad86",
   "outputs": [],
   "execution_count": 21
  },
  {
   "metadata": {},
   "cell_type": "markdown",
   "source": "## torch.optim",
   "id": "1ccffe875da2e7ec"
  },
  {
   "metadata": {},
   "cell_type": "code",
   "outputs": [],
   "execution_count": null,
   "source": "",
   "id": "2aa5c23474996ed0"
  }
 ],
 "metadata": {
  "kernelspec": {
   "display_name": "Python 3",
   "language": "python",
   "name": "python3"
  },
  "language_info": {
   "codemirror_mode": {
    "name": "ipython",
    "version": 2
   },
   "file_extension": ".py",
   "mimetype": "text/x-python",
   "name": "python",
   "nbconvert_exporter": "python",
   "pygments_lexer": "ipython2",
   "version": "2.7.6"
  }
 },
 "nbformat": 4,
 "nbformat_minor": 5
}
