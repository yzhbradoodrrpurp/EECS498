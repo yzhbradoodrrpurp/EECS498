{
 "cells": [
  {
   "metadata": {},
   "cell_type": "markdown",
   "source": "# PyTorch Modules",
   "id": "ddabf163e9a1d4ad"
  },
  {
   "cell_type": "code",
   "id": "initial_id",
   "metadata": {
    "collapsed": true,
    "ExecuteTime": {
     "end_time": "2025-03-14T05:17:50.587419Z",
     "start_time": "2025-03-14T05:17:49.394192Z"
    }
   },
   "source": [
    "import  torch\n",
    "import matplotlib.pyplot as plt\n",
    "from torch import nn"
   ],
   "outputs": [],
   "execution_count": 1
  },
  {
   "metadata": {},
   "cell_type": "markdown",
   "source": [
    "## torch.nn.functional\n",
    "\n",
    "在 `torch.nn.functional` 这个库里有许多函数可以让我们直接调用，避免重复造轮子：\n",
    "\n",
    "- `torch.nn.functional.linear`\n",
    "    - receives:    \n",
    "        - X: (batch_size, in_dimensions)\n",
    "        - W: (out_dimensions, in_dimensions)\n",
    "        - b: (out_dimensions,) default None\n",
    "    - returns:\n",
    "        - output: (batch_size, out_dimensions) \n",
    "\n",
    "- `torch.nn.functional.relu`\n",
    "    - receives:\n",
    "        - X\n",
    "    - returns:\n",
    "        - X_after_relu\n",
    "\n",
    "- `torch.nn.functional.conv2d`\n",
    "    - receives:\n",
    "        - X: (batch_size, in_channels, H, W)\n",
    "        - W: (out_channels, in_channels, kH, kW)\n",
    "        - b: (out_channels,) default None\n",
    "        - stride: default 1   \n",
    "        - padding: default 0 \n",
    "    - returns:   \n",
    "        output: (batch_size, out_channels, (H - kH + 2P) // S + 1, (W - kW + 2P) // S + 1)\n",
    "\n",
    "- `torch.nn.functional.pad`\n",
    "    - receives:\n",
    "        - X: \n",
    "        - (left, right, up, down): padding numbers\n",
    "    - returns:\n",
    "        - X_padded\n",
    "\n",
    "- `torch.nn.functional.cross_entropy`\n",
    "    - receives:\n",
    "        - scores: (batch_size, dimensions)\n",
    "        - y: (batch_size,)\n",
    "    - returns:\n",
    "        - loss: scalar   \n",
    "                \n",
    "## torch.nn.init\n",
    "\n",
    "在 `torch.nn.init` 这个库里有许多用于初始化的函数：\n",
    "\n",
    "- `torch.nn.init.kaiming_normal_`\n",
    "    - receives:\n",
    "        - `torch.empty`: corresponding shape of W\n",
    "        - `nonelinearity`: 'relu', 'leaky_relu', ...\n",
    "    - returns:\n",
    "        - W: kaming_nromal_ W\n",
    "                \n",
    "- `torch.nn.init.zero_`\n",
    "    - receives:\n",
    "        - `torch.empty`: corresponding shape of b\n",
    "    - returns: \n",
    "        - b: all neurons set to zero."
   ],
   "id": "3929697affa194be"
  },
  {
   "metadata": {
    "ExecuteTime": {
     "end_time": "2025-03-10T11:21:47.627828Z",
     "start_time": "2025-03-10T11:21:47.041723Z"
    }
   },
   "cell_type": "code",
   "source": [
    "\"\"\"\n",
    "# Conv -> ReLU -> Conv -> ReLU -> Flatten -> Linear -> ReLU -> Linear -> Softmax\n",
    "\n",
    "Conv1: 8 filters, kernel size of 3x3, stride of 1, padding of 1\n",
    "ReLU: ...\n",
    "Conv2: 16 filters, kernel size of 3x3, stride of 1, padding of 1\n",
    "ReLU: ...\n",
    "Flatten: ...\n",
    "Linear1: out dimension of 1000, in dimension of 16 * 32 * 32\n",
    "Linear2: out dimension of 10, in dimension of 1000\n",
    "Softmax: ...\n",
    "\"\"\"\n",
    "\n",
    "# generate training samples\n",
    "X = torch.randint(0, 256, (64, 3, 32, 32), dtype=torch.float, generator=torch.Generator().manual_seed(42))\n",
    "y = torch.randint(0, 10, (64,), generator=torch.Generator().manual_seed(42))\n",
    "\n",
    "# initialize parameters\n",
    "convW1 = torch.nn.init.kaiming_normal_(torch.empty(8, 3, 3, 3, requires_grad=True, dtype=torch.float))\n",
    "convb1 = torch.nn.init.zeros_(torch.empty(8, requires_grad=True, dtype=torch.float))\n",
    "convW2 = torch.nn.init.kaiming_normal_(torch.empty(16, 8, 3, 3, requires_grad=True, dtype=torch.float))\n",
    "convb2 = torch.nn.init.zeros_(torch.empty(16, requires_grad=True, dtype=torch.float))\n",
    "linarW1 = torch.nn.init.kaiming_normal_(torch.empty(1000, 16 * 32 * 32, requires_grad=True, dtype=torch.float))\n",
    "linarb1 = torch.nn.init.zeros_(torch.empty(1000, requires_grad=True, dtype=torch.float))\n",
    "linarW2 = torch.nn.init.kaiming_normal_(torch.empty(10, 1000, requires_grad=True, dtype=torch.float))\n",
    "linarb2 = torch.nn.init.zeros_(torch.empty(10, requires_grad=True, dtype=torch.float))\n",
    "\n",
    "loss_history = []\n",
    "epochs = range(5)\n",
    "\n",
    "for epoch in epochs:\n",
    "    feature_map = torch.nn.functional.conv2d(X, convW1, convb1, stride=1, padding=1)\n",
    "    feature_map = torch.nn.functional.relu(feature_map)\n",
    "    \n",
    "    feature_map = torch.nn.functional.conv2d(feature_map, convW2, convb2, stride=1, padding=1)\n",
    "    feature_map = torch.nn.functional.relu(feature_map)\n",
    "    feature_map = feature_map.view(feature_map.shape[0], -1)\n",
    "    \n",
    "    feature_map = torch.nn.functional.linear(feature_map, linarW1, linarb1)\n",
    "    feature_map = torch.nn.functional.relu(feature_map)\n",
    "    scores = torch.nn.functional.linear(feature_map, linarW2, linarb2)\n",
    "    \n",
    "    loss = torch.nn.functional.cross_entropy(scores, y)\n",
    "    loss_history.append(loss.item())\n",
    "    \n",
    "    loss.backward()\n",
    "    \n",
    "    with torch.no_grad():\n",
    "        convW1 -= 1e-5 * convW1.grad\n",
    "        convb1 -= 1e-5 * convb1.grad\n",
    "        convW2 -= 1e-5 * convW2.grad\n",
    "        convb2 -= 1e-5 * convb2.grad\n",
    "        linarW1 -= 1e-5 * linarW1.grad\n",
    "        linarb1 -= 1e-5 * linarb1.grad\n",
    "        linarW2 -= 1e-5 * linarW2.grad\n",
    "        linarb2 -= 1e-5 * linarb2.grad\n",
    "        \n",
    "        convW1.grad.zero_()\n",
    "        convb1.grad.zero_()\n",
    "        convW2.grad.zero_()\n",
    "        convb2.grad.zero_()\n",
    "        linarW1.grad.zero_()\n",
    "        linarb1.grad.zero_()\n",
    "        linarW2.grad.zero_()\n",
    "        linarb2.grad.zero_()\n",
    "\n",
    "plt.figure()        \n",
    "plt.plot(epochs, loss_history, color='red', label='Loss')\n",
    "plt.legend()\n",
    "plt.title('Loss history')\n",
    "plt.xlabel('Epochs')\n",
    "plt.ylabel('Loss')\n",
    "plt.show()"
   ],
   "id": "e47fde9384db6fc1",
   "outputs": [
    {
     "data": {
      "text/plain": [
       "<Figure size 640x480 with 1 Axes>"
      ],
      "image/png": "[encoded data removed]"
     },
     "metadata": {},
     "output_type": "display_data"
    }
   ],
   "execution_count": 2
  },
  {
   "metadata": {},
   "cell_type": "markdown",
   "source": [
    "## torch.nn.Module\n",
    "\n",
    "在以上的方法，我们需要自己手动创建一个个参数，这很麻烦，我们可以直接使用 `torch.nn.Module` 的子类来创建一个自己的网络同时避免手动创建大量参数。使用 `torch.nn.Module` 其实只用实现两个方法就行了：\n",
    "\n",
    "- `__init__`: 在这里创建好模型需要的层，比如 `torch.nn.Conv2d`, `torch.nn.Linear` 等等，它们本身也是 `torch.nn.Modlue` 的子类。然后将层的可学习参数进行初始化 (如果该层有可学习参数的话) 。\n",
    "- `forward`: 在这里使用在 `__init__` 中定义的层，决定如何向前传播. **千万不要在 `forward` 中创建新的有可学习参数的层，否则会出错，所有有可学习参数的层都必须创建在 `__init__` 中；但是可以在 `forward` 中创建新的没有可学习参数的层**。\n",
    "\n",
    "常见的 `torch.nn.Module`:\n",
    "\n",
    "- `torch.nn.Conv2d`\n",
    "- `torch.nn.BatchNorm2d`\n",
    "- `torch.nn.ReLU`\n",
    "- `torch.nn.AvgPool2d`\n",
    "- `torch.nn.MaxPool2d`\n",
    "- `torch.nn.Flatten`\n",
    "- `torch.nn.Linear`\n",
    "- `torch.nn.BatchNorm1d`\n",
    "- `torch.nn.Identity`\n",
    "\n",
    "在调用创建好的 Module 正向传播时，直接 `Module(X)` 。 "
   ],
   "id": "a9df7172da5905a"
  },
  {
   "metadata": {
    "ExecuteTime": {
     "end_time": "2025-03-10T11:21:47.632867Z",
     "start_time": "2025-03-10T11:21:47.628534Z"
    }
   },
   "cell_type": "code",
   "source": [
    "class ZhihangNet(torch.nn.Module):\n",
    "    def __init__(self):\n",
    "        super().__init__()\n",
    "        # NOTE: 创建需要的层\n",
    "        self.conv1 = torch.nn.Conv2d(3, 8, kernel_size=(3, 3), padding=(1, 1), stride=1)\n",
    "        self.relu1 = torch.nn.ReLU()\n",
    "        self.conv2 = torch.nn.Conv2d(8, 16, kernel_size=(3, 3), padding=(1, 1), stride=1)\n",
    "        self.relu2 = torch.nn.ReLU()\n",
    "        self.flatten = torch.nn.Flatten()\n",
    "        self.linear1 = torch.nn.Linear(16 * 32 * 32, 1000) \n",
    "        self.relu3 = torch.nn.ReLU()\n",
    "        self.linear2 = torch.nn.Linear(1000, 10)\n",
    "\n",
    "        # NOTE: 直接将层的可学习参数传入初始化函数中\n",
    "        nn.init.kaiming_normal_(self.conv1.weight)\n",
    "        nn.init.zeros_(self.conv1.bias)\n",
    "        nn.init.kaiming_normal_(self.conv2.weight)\n",
    "        nn.init.zeros_(self.conv2.bias)\n",
    "        nn.init.kaiming_normal_(self.linear1.weight)\n",
    "        nn.init.zeros_(self.linear1.bias)\n",
    "        nn.init.kaiming_normal_(self.linear2.weight)\n",
    "        nn.init.zeros_(self.linear2.bias)\n",
    "\n",
    "    def forward(self, X):\n",
    "        # NOTE: 在正向传播的时候将所有的模型串联起来\n",
    "        feature_map = self.conv1(X)\n",
    "        feature_map = self.relu1(feature_map)\n",
    "        feature_map = self.conv2(feature_map)\n",
    "        feature_map = self.relu2(feature_map)\n",
    "        feature_map = self.flatten(feature_map)\n",
    "        feature_map = self.linear1(feature_map)\n",
    "        feature_map = self.relu3(feature_map)\n",
    "        scores = self.linear2(feature_map)\n",
    "        return scores"
   ],
   "id": "eccf7e205490ad86",
   "outputs": [],
   "execution_count": 3
  },
  {
   "metadata": {},
   "cell_type": "markdown",
   "source": [
    "## torch.optim\n",
    "\n",
    "`torch.optim` 模块提供了一系列的优化方法，比如 SGD, SGD + Momentum, Adagrad, RMSProp, Adam 等等。\n",
    "\n",
    "- `torch.optim.SGD`:\n",
    "    - receives:\n",
    "        - `model.parameters()`: 模型的参数\n",
    "        - `lr`: 学习率 \n",
    "        - `momentum`: 动量参数，一般设置为0.9，默认为0\n",
    "    - returns:  \n",
    "        - 优化方法 SGD\n",
    "\n",
    "- `torch.optim.Adam`:\n",
    "    - receives:\n",
    "        - `model.paramters()`: 模型的参数\n",
    "        - `lr`: 学习率\n",
    "        - `betas`: (beta1, beta2)  \n",
    "    - returns: \n",
    "        - 优化方法 Adam\n",
    "\n",
    "每次调用 `backward` 函数之后梯度会累加，所以在调用 `backward` 之前，记得使用 `optimizer.zero_grad` 将上一轮计算的梯度进行清零，然后再调用 `backward` 计算梯度，使用 `opimizer.step` 更新梯度。"
   ],
   "id": "1ccffe875da2e7ec"
  },
  {
   "metadata": {
    "ExecuteTime": {
     "end_time": "2025-03-10T12:03:36.095415Z",
     "start_time": "2025-03-10T12:03:35.252701Z"
    }
   },
   "cell_type": "code",
   "source": [
    "# 创建一个 ZhihangNet\n",
    "model = ZhihangNet()\n",
    "\n",
    "# 创建一个优化方法\n",
    "optimizer = torch.optim.SGD(model.parameters(), lr=1e-4, momentum=0.9)\n",
    "\n",
    "loss_history = []\n",
    "\n",
    "for epoch in epochs:\n",
    "    scores = model(X)\n",
    "    loss = torch.nn.functional.cross_entropy(scores, y)\n",
    "    loss_history.append(loss.item())\n",
    "    optimizer.zero_grad() # NOTE: 清零上一轮的梯度\n",
    "    loss.backward() # NOTE: 计算这一轮的梯度\n",
    "    optimizer.step() # NOTE: 使用这一轮的梯度更新参数\n",
    "    \n",
    "plt.figure()        \n",
    "plt.plot(epochs, loss_history, color='red', label='Loss')\n",
    "plt.legend()\n",
    "plt.title('Loss history')\n",
    "plt.xlabel('Epochs')\n",
    "plt.ylabel('Loss')\n",
    "plt.show()"
   ],
   "id": "2aa5c23474996ed0",
   "outputs": [
    {
     "data": {
      "text/plain": [
       "<Figure size 640x480 with 1 Axes>"
      ],
      "image/png": "[encoded data removed]"
     },
     "metadata": {},
     "output_type": "display_data"
    }
   ],
   "execution_count": 20
  },
  {
   "metadata": {},
   "cell_type": "markdown",
   "source": [
    "## torch.nn.Sequential\n",
    "\n",
    "想要自己堆叠网络，有比自定义一个 `torch.nn.Module` 更快的方式，就是使用 `torch.nn.Sequential` ，虽然使用这种方法在某种程度上会损失一定的灵活性 (比如似乎无法用这种方法构造出一个ResNet)。"
   ],
   "id": "64d8cf114bb42ed6"
  },
  {
   "metadata": {
    "ExecuteTime": {
     "end_time": "2025-03-10T12:07:02.880905Z",
     "start_time": "2025-03-10T12:07:02.145267Z"
    }
   },
   "cell_type": "code",
   "source": [
    "# 创建一个 YiNet，结构和 ZhihangNet 一摸一样\n",
    "YiNet = torch.nn.Sequential(\n",
    "    torch.nn.Conv2d(3, 8, kernel_size=(3, 3), padding=(1, 1), stride=1),\n",
    "    torch.nn.ReLU(),\n",
    "    torch.nn.Conv2d(8, 16, kernel_size=(3, 3), padding=(1, 1), stride=1),\n",
    "    torch.nn.ReLU(),\n",
    "    torch.nn.Flatten(),\n",
    "    torch.nn.Linear(16 * 32 * 32, 1000),\n",
    "    torch.nn.ReLU(),\n",
    "    torch.nn.Linear(1000, 10)\n",
    ")\n",
    "\n",
    "# 创建优化策略 \n",
    "optimizer = torch.optim.Adam(YiNet.parameters(), lr=1e-4, betas=(0.9, 0.999))\n",
    "\n",
    "loss_history = []\n",
    "\n",
    "for epoch in epochs:\n",
    "    scores = YiNet(X)\n",
    "    loss = torch.nn.functional.multi_margin_loss(scores, y)\n",
    "    loss_history.append(loss.item())\n",
    "    optimizer.zero_grad()\n",
    "    loss.backward()\n",
    "    optimizer.step()\n",
    "    \n",
    "plt.figure()        \n",
    "plt.plot(epochs, loss_history, color='red', label='Loss')\n",
    "plt.legend()\n",
    "plt.title('Loss history')\n",
    "plt.xlabel('Epochs')\n",
    "plt.ylabel('Loss')\n",
    "plt.show()"
   ],
   "id": "3b172905cebf7a",
   "outputs": [
    {
     "data": {
      "text/plain": [
       "<Figure size 640x480 with 1 Axes>"
      ],
      "image/png": "[encoded data removed]"
     },
     "metadata": {},
     "output_type": "display_data"
    }
   ],
   "execution_count": 23
  },
  {
   "metadata": {},
   "cell_type": "markdown",
   "source": [
    "## torch.nn.Parameter\n",
    "\n",
    "可以用创建 `torch.nn.Module` 而只创建参数 `torch.nn.Parameter`。"
   ],
   "id": "413c3269f863b2e2"
  },
  {
   "metadata": {
    "ExecuteTime": {
     "end_time": "2025-03-14T05:18:03.635477Z",
     "start_time": "2025-03-14T05:18:03.624509Z"
    }
   },
   "cell_type": "code",
   "source": [
    "class RNN(torch.nn.Module):\n",
    "    def __init__(self, input_dimensions, hidden_dimensions, output_dimensions, max_length, dtype=torch.float, device='cpu'):\n",
    "        super().__init__()\n",
    "\n",
    "        self.max_length = max_length\n",
    "\n",
    "        # for hidden state part\n",
    "        self.Wx = torch.nn.Parameter(torch.empty(input_dimensions, hidden_dimensions, dtype=dtype, device=device))\n",
    "        self.Wh = torch.nn.Parameter(torch.empty(hidden_dimensions, hidden_dimensions, dtype=dtype, device=device))\n",
    "        self.b = torch.nn.Parameter(torch.zeros(hidden_dimensions, dtype=dtype, device=device))\n",
    "\n",
    "        torch.nn.init.kaiming_normal_(self.Wx, nonlinearity='tanh')\n",
    "        torch.nn.init.kaiming_normal_(self.Wh, nonlinearity='tanh')\n",
    "        torch.nn.init.zeros_(self.b)\n",
    "\n",
    "        # convert hidden state into output\n",
    "        self.fc = torch.nn.Linear(hidden_dimensions, output_dimensions, dtype=dtype, device=device)\n",
    "\n",
    "    def train_forward(self, X, h0=None):\n",
    "        \"\"\"\n",
    "\n",
    "        :param X: (N, T, D), D dimensions, each sample with T sequences and N samples\n",
    "        :param h0: (N, H), initial hidden state\n",
    "        :return: outputs\n",
    "        \"\"\"\n",
    "        N, T, D = X.shape\n",
    "        H = self.Wh.shape[0]\n",
    "\n",
    "        # initialize h0 if it's not initialized\n",
    "        if h0 is None:\n",
    "            h0 = torch.zeros(N, H, dtype=X.dtype, device=X.device)\n",
    "\n",
    "        h_next = h0\n",
    "        outputs = []\n",
    "\n",
    "        # forward pass\n",
    "        for t in range(T):\n",
    "            h_next = X[:, t, :] @ self.Wx + h_next @ self.Wh + self.b\n",
    "            h_next = h_next.tanh()\n",
    "\n",
    "            out = self.fc(h_next)  # (N, output_dim)\n",
    "            outputs.append(out)\n",
    "\n",
    "        # convert Python list to PyTorch tensor\n",
    "        outputs = torch.stack(outputs, dim=1)  # (N, T, output_dim)\n",
    "\n",
    "        return outputs\n",
    "\n",
    "    def test_forward(self, h0):\n",
    "        \"\"\"\n",
    "\n",
    "        :param h0: (N, H), initial hidden state\n",
    "        :return: output tokens\n",
    "        \"\"\"\n",
    "        N = h0.shape[0]\n",
    "        D = self.Wx.shape[0]\n",
    "\n",
    "        start_token = torch.ones(N, D, dtype=h0.dtype, device=h0.device)\n",
    "        next_token = start_token\n",
    "        h_next = h0\n",
    "\n",
    "        tokens = []\n",
    "\n",
    "        for i in range(self.max_length):\n",
    "            h_next = next_token @ self.Wx + h_next @ self.Wh + self.b\n",
    "            h_next = h_next.tanh()\n",
    "\n",
    "            next_token = self.fc(h_next)  # (N, out_dim)\n",
    "            tokens.append(next_token)\n",
    "\n",
    "        # convert Python list to PyTorch tensor\n",
    "        tokens = torch.stack(tokens, dim=1)  # (N, max_length, out_dim)\n",
    "\n",
    "        return tokens"
   ],
   "id": "6f74491c26515abf",
   "outputs": [],
   "execution_count": 3
  },
  {
   "metadata": {},
   "cell_type": "code",
   "outputs": [],
   "execution_count": null,
   "source": "",
   "id": "edfa02dd865f638c"
  }
 ],
 "metadata": {
  "kernelspec": {
   "display_name": "Python 3",
   "language": "python",
   "name": "python3"
  },
  "language_info": {
   "codemirror_mode": {
    "name": "ipython",
    "version": 2
   },
   "file_extension": ".py",
   "mimetype": "text/x-python",
   "name": "python",
   "nbconvert_exporter": "python",
   "pygments_lexer": "ipython2",
   "version": "2.7.6"
  }
 },
 "nbformat": 4,
 "nbformat_minor": 5
}
